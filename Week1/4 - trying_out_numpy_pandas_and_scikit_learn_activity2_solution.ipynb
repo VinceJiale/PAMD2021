{
 "cells": [
  {
   "cell_type": "markdown",
   "metadata": {},
   "source": [
    "# Exercises with libraries"
   ]
  },
  {
   "cell_type": "markdown",
   "metadata": {
    "collapsed": true
   },
   "source": [
    "Before you begin, load the wine dataset, then perform the tasks outlined below."
   ]
  },
  {
   "cell_type": "code",
   "execution_count": null,
   "metadata": {},
   "outputs": [],
   "source": [
    "from sklearn import datasets as ds\n",
    "import pandas as pd\n",
    "import numpy as np\n",
    "\n",
    "dataset = ds.load_wine()"
   ]
  },
  {
   "cell_type": "markdown",
   "metadata": {},
   "source": [
    "First, retrieve all the names of the independent variables:"
   ]
  },
  {
   "cell_type": "code",
   "execution_count": null,
   "metadata": {
    "nbgrader": {
     "grade": false,
     "grade_id": "get_variable_names",
     "locked": false,
     "schema_version": 1,
     "solution": true
    }
   },
   "outputs": [],
   "source": [
    "def get_variable_names():\n",
    "    variables = []\n",
    "    \n",
    "    ### BEGIN SOLUTION    \n",
    "    # We need to import the correct part of the libary\n",
    "    from sklearn import datasets as ds\n",
    "    \n",
    "    # A dataset in sklearn is a dictionary, so we use the appropriate key to extra the feature names \n",
    "    variables = dataset['feature_names']\n",
    "    ### END SOLUTION\n",
    "    \n",
    "    return variables"
   ]
  },
  {
   "cell_type": "code",
   "execution_count": null,
   "metadata": {},
   "outputs": [],
   "source": [
    "assert get_variable_names() == ['alcohol',\n",
    " 'malic_acid',\n",
    " 'ash',\n",
    " 'alcalinity_of_ash',\n",
    " 'magnesium',\n",
    " 'total_phenols',\n",
    " 'flavanoids',\n",
    " 'nonflavanoid_phenols',\n",
    " 'proanthocyanins',\n",
    " 'color_intensity',\n",
    " 'hue',\n",
    " 'od280/od315_of_diluted_wines',\n",
    " 'proline']"
   ]
  },
  {
   "cell_type": "markdown",
   "metadata": {},
   "source": [
    "Now, create a function that calculates the mean and median of a given variable in the dataset (enter the variable's name as a string):"
   ]
  },
  {
   "cell_type": "code",
   "execution_count": null,
   "metadata": {
    "nbgrader": {
     "grade": true,
     "grade_id": "calculate_mean_median",
     "locked": false,
     "points": 1,
     "schema_version": 1,
     "solution": true
    }
   },
   "outputs": [],
   "source": [
    "def calculate_mean_median(variable):\n",
    "    mean = 0\n",
    "    median = 0\n",
    "    \n",
    "    ### BEGIN SOLUTION    \n",
    "    # First, import the dataframe using the raw data (values), and the features\n",
    "    df = pd.DataFrame(data=dataset['data'], columns=dataset['feature_names'])\n",
    "    \n",
    "    # This makes it easy to quickly obtain the data of a variable using df[variable]\n",
    "    # We use NumPy to calculate the mean and median\n",
    "    mean = np.mean(df[variable])\n",
    "    median = np.median(df[variable])\n",
    "    ### END SOLUTION\n",
    "    \n",
    "    return mean, median"
   ]
  },
  {
   "cell_type": "code",
   "execution_count": null,
   "metadata": {
    "scrolled": true
   },
   "outputs": [],
   "source": [
    "df = pd.DataFrame(data=dataset['data'], columns=dataset['feature_names'])\n",
    "type(df['flavanoids'])"
   ]
  },
  {
   "cell_type": "code",
   "execution_count": null,
   "metadata": {},
   "outputs": [],
   "source": [
    "assert np.allclose(calculate_mean_median('flavanoids'),(2.0292696629213474, 2.135))\n",
    "assert np.allclose(calculate_mean_median('total_phenols'),(2.295112359550562, 2.355))\n",
    "assert np.allclose(calculate_mean_median('od280/od315_of_diluted_wines'),(2.6116853932584254, 2.78))\n",
    "assert np.allclose(calculate_mean_median('ash'),(2.3665168539325854, 2.36))"
   ]
  }
 ],
 "metadata": {
  "kernelspec": {
   "display_name": "Python 3",
   "language": "python",
   "name": "python3"
  },
  "language_info": {
   "codemirror_mode": {
    "name": "ipython",
    "version": 3
   },
   "file_extension": ".py",
   "mimetype": "text/x-python",
   "name": "python",
   "nbconvert_exporter": "python",
   "pygments_lexer": "ipython3",
   "version": "3.8.8"
  }
 },
 "nbformat": 4,
 "nbformat_minor": 2
}
